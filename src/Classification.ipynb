{
 "cells": [
  {
   "cell_type": "markdown",
   "metadata": {},
   "source": [
    "# Classification (K-Nearest-Neighbors)\n",
    "\n",
    "## Iris Classifier\n",
    "For this in-class exercise we will look at the Iris dataset and use scikit learn to classify the different types of Irises.\n",
    "- Done in Class (Data 201)\n",
    "\n",
    "## Individual Exercises\n",
    "Selected 3 different datasets and use the kNN classifier to build a model for them.\n",
    "- https://archive.ics.uci.edu/ml/datasets.php\n",
    "\n"
   ]
  },
  {
   "cell_type": "markdown",
   "metadata": {},
   "source": [
    "### Imports and style"
   ]
  },
  {
   "cell_type": "code",
   "execution_count": 44,
   "metadata": {},
   "outputs": [],
   "source": [
    "import pandas as pd\n",
    "import matplotlib.pyplot as plt\n",
    "import numpy as np\n",
    "height = 5\n",
    "plt.rcParams[\"figure.figsize\"] = [1.618*height, height]\n",
    "plt.style.use(\"seaborn\")"
   ]
  },
  {
   "cell_type": "markdown",
   "metadata": {},
   "source": [
    "### Iris Dataset\n",
    "#### Load the Iris data into a DataFrame"
   ]
  },
  {
   "cell_type": "code",
   "execution_count": 45,
   "metadata": {},
   "outputs": [
    {
     "data": {
      "text/plain": "     sepal_length  sepal_width  petal_length  petal_width            type\n0             5.1          3.5           1.4          0.2     Iris-setosa\n1             4.9          3.0           1.4          0.2     Iris-setosa\n2             4.7          3.2           1.3          0.2     Iris-setosa\n3             4.6          3.1           1.5          0.2     Iris-setosa\n4             5.0          3.6           1.4          0.2     Iris-setosa\n..            ...          ...           ...          ...             ...\n145           6.7          3.0           5.2          2.3  Iris-virginica\n146           6.3          2.5           5.0          1.9  Iris-virginica\n147           6.5          3.0           5.2          2.0  Iris-virginica\n148           6.2          3.4           5.4          2.3  Iris-virginica\n149           5.9          3.0           5.1          1.8  Iris-virginica\n\n[150 rows x 5 columns]",
      "text/html": "<div>\n<style scoped>\n    .dataframe tbody tr th:only-of-type {\n        vertical-align: middle;\n    }\n\n    .dataframe tbody tr th {\n        vertical-align: top;\n    }\n\n    .dataframe thead th {\n        text-align: right;\n    }\n</style>\n<table border=\"1\" class=\"dataframe\">\n  <thead>\n    <tr style=\"text-align: right;\">\n      <th></th>\n      <th>sepal_length</th>\n      <th>sepal_width</th>\n      <th>petal_length</th>\n      <th>petal_width</th>\n      <th>type</th>\n    </tr>\n  </thead>\n  <tbody>\n    <tr>\n      <th>0</th>\n      <td>5.1</td>\n      <td>3.5</td>\n      <td>1.4</td>\n      <td>0.2</td>\n      <td>Iris-setosa</td>\n    </tr>\n    <tr>\n      <th>1</th>\n      <td>4.9</td>\n      <td>3.0</td>\n      <td>1.4</td>\n      <td>0.2</td>\n      <td>Iris-setosa</td>\n    </tr>\n    <tr>\n      <th>2</th>\n      <td>4.7</td>\n      <td>3.2</td>\n      <td>1.3</td>\n      <td>0.2</td>\n      <td>Iris-setosa</td>\n    </tr>\n    <tr>\n      <th>3</th>\n      <td>4.6</td>\n      <td>3.1</td>\n      <td>1.5</td>\n      <td>0.2</td>\n      <td>Iris-setosa</td>\n    </tr>\n    <tr>\n      <th>4</th>\n      <td>5.0</td>\n      <td>3.6</td>\n      <td>1.4</td>\n      <td>0.2</td>\n      <td>Iris-setosa</td>\n    </tr>\n    <tr>\n      <th>...</th>\n      <td>...</td>\n      <td>...</td>\n      <td>...</td>\n      <td>...</td>\n      <td>...</td>\n    </tr>\n    <tr>\n      <th>145</th>\n      <td>6.7</td>\n      <td>3.0</td>\n      <td>5.2</td>\n      <td>2.3</td>\n      <td>Iris-virginica</td>\n    </tr>\n    <tr>\n      <th>146</th>\n      <td>6.3</td>\n      <td>2.5</td>\n      <td>5.0</td>\n      <td>1.9</td>\n      <td>Iris-virginica</td>\n    </tr>\n    <tr>\n      <th>147</th>\n      <td>6.5</td>\n      <td>3.0</td>\n      <td>5.2</td>\n      <td>2.0</td>\n      <td>Iris-virginica</td>\n    </tr>\n    <tr>\n      <th>148</th>\n      <td>6.2</td>\n      <td>3.4</td>\n      <td>5.4</td>\n      <td>2.3</td>\n      <td>Iris-virginica</td>\n    </tr>\n    <tr>\n      <th>149</th>\n      <td>5.9</td>\n      <td>3.0</td>\n      <td>5.1</td>\n      <td>1.8</td>\n      <td>Iris-virginica</td>\n    </tr>\n  </tbody>\n</table>\n<p>150 rows × 5 columns</p>\n</div>"
     },
     "execution_count": 45,
     "metadata": {},
     "output_type": "execute_result"
    }
   ],
   "source": [
    "url = 'http://archive.ics.uci.edu/ml/machine-learning-databases/iris/iris.data' \n",
    "\n",
    "cols = [\"sepal_length\", \"sepal_width\", \"petal_length\", \"petal_width\", \"type\"]\n",
    "iris_data = pd.read_csv(\"../data/iris.data\", header=None, names=cols)\n",
    "iris_data"
   ]
  },
  {
   "cell_type": "markdown",
   "source": [
    "#### Separate Data into DataFrames for each class (type)\n"
   ],
   "metadata": {
    "collapsed": false,
    "pycharm": {
     "name": "#%% md\n"
    }
   }
  },
  {
   "cell_type": "code",
   "execution_count": 46,
   "metadata": {
    "pycharm": {
     "name": "#%%\n"
    }
   },
   "outputs": [],
   "source": [
    "df_setosa = iris_data[iris_data.type == \"Iris-setosa\"].drop(\"type\", axis=1)\n",
    "df_versicolor = iris_data[iris_data.type == \"Iris-versicolor\"].drop(\"type\", axis=1)\n",
    "df_virginica = iris_data[iris_data.type == \"Iris-virginica\"].drop(\"type\", axis=1)\n"
   ]
  },
  {
   "cell_type": "markdown",
   "source": [
    "#### Explore Data"
   ],
   "metadata": {
    "collapsed": false,
    "pycharm": {
     "name": "#%% md\n"
    }
   }
  },
  {
   "cell_type": "code",
   "execution_count": 47,
   "metadata": {
    "pycharm": {
     "name": "#%%\n"
    }
   },
   "outputs": [
    {
     "data": {
      "text/plain": "<Figure size 576x396 with 1 Axes>",
      "image/png": "[encoded data removed]"
     },
     "metadata": {},
     "output_type": "display_data"
    }
   ],
   "source": [
    "plt.scatter(df_setosa.petal_length, df_setosa.petal_width, label=\"Setosa\")\n",
    "plt.scatter(df_versicolor.petal_length, df_versicolor.petal_width, label=\"Versicolor\")\n",
    "plt.scatter(df_virginica.petal_length, df_virginica.petal_width, label=\"Virginica\")\n",
    "plt.legend()\n",
    "plt.ylabel(\"Petal Width [cm]\")\n",
    "plt.xlabel(\"Petal Length [cm]\")\n",
    "plt.title(\"Petal Width v. Length\")\n",
    "plt.show()"
   ]
  },
  {
   "cell_type": "code",
   "execution_count": 48,
   "metadata": {
    "pycharm": {
     "name": "#%%\n"
    }
   },
   "outputs": [
    {
     "data": {
      "text/plain": "<Figure size 576x396 with 1 Axes>",
      "image/png": "[encoded data removed]"
     },
     "metadata": {},
     "output_type": "display_data"
    }
   ],
   "source": [
    "plt.scatter(df_setosa.sepal_length, df_setosa.sepal_width, label=\"Setosa\")\n",
    "plt.scatter(df_versicolor.sepal_length, df_versicolor.sepal_width, label=\"Versicolor\")\n",
    "plt.scatter(df_virginica.sepal_length, df_virginica.sepal_width, label=\"Virginica\")\n",
    "plt.legend()\n",
    "plt.ylabel(\"Sepal Width [cm]\")\n",
    "plt.xlabel(\"Sepal Length [cm]\")\n",
    "plt.title(\"Sepal Width v. Length\")\n",
    "plt.show()"
   ]
  },
  {
   "cell_type": "markdown",
   "metadata": {
    "pycharm": {
     "name": "#%% md\n"
    }
   },
   "source": [
    "#### Create a numerical column for species"
   ]
  },
  {
   "cell_type": "code",
   "execution_count": 49,
   "metadata": {
    "pycharm": {
     "name": "#%%\n"
    }
   },
   "outputs": [
    {
     "data": {
      "text/plain": "   sepal_length  sepal_width  petal_length  petal_width         type  species\n0           5.1          3.5           1.4          0.2  Iris-setosa        0\n1           4.9          3.0           1.4          0.2  Iris-setosa        0\n2           4.7          3.2           1.3          0.2  Iris-setosa        0\n3           4.6          3.1           1.5          0.2  Iris-setosa        0\n4           5.0          3.6           1.4          0.2  Iris-setosa        0",
      "text/html": "<div>\n<style scoped>\n    .dataframe tbody tr th:only-of-type {\n        vertical-align: middle;\n    }\n\n    .dataframe tbody tr th {\n        vertical-align: top;\n    }\n\n    .dataframe thead th {\n        text-align: right;\n    }\n</style>\n<table border=\"1\" class=\"dataframe\">\n  <thead>\n    <tr style=\"text-align: right;\">\n      <th></th>\n      <th>sepal_length</th>\n      <th>sepal_width</th>\n      <th>petal_length</th>\n      <th>petal_width</th>\n      <th>type</th>\n      <th>species</th>\n    </tr>\n  </thead>\n  <tbody>\n    <tr>\n      <th>0</th>\n      <td>5.1</td>\n      <td>3.5</td>\n      <td>1.4</td>\n      <td>0.2</td>\n      <td>Iris-setosa</td>\n      <td>0</td>\n    </tr>\n    <tr>\n      <th>1</th>\n      <td>4.9</td>\n      <td>3.0</td>\n      <td>1.4</td>\n      <td>0.2</td>\n      <td>Iris-setosa</td>\n      <td>0</td>\n    </tr>\n    <tr>\n      <th>2</th>\n      <td>4.7</td>\n      <td>3.2</td>\n      <td>1.3</td>\n      <td>0.2</td>\n      <td>Iris-setosa</td>\n      <td>0</td>\n    </tr>\n    <tr>\n      <th>3</th>\n      <td>4.6</td>\n      <td>3.1</td>\n      <td>1.5</td>\n      <td>0.2</td>\n      <td>Iris-setosa</td>\n      <td>0</td>\n    </tr>\n    <tr>\n      <th>4</th>\n      <td>5.0</td>\n      <td>3.6</td>\n      <td>1.4</td>\n      <td>0.2</td>\n      <td>Iris-setosa</td>\n      <td>0</td>\n    </tr>\n  </tbody>\n</table>\n</div>"
     },
     "execution_count": 49,
     "metadata": {},
     "output_type": "execute_result"
    }
   ],
   "source": [
    "species = {\"Iris-setosa\":0,\"Iris-versicolor\":1,\"Iris-virginica\":2}\n",
    "iris_data[\"species\"] = [species[i] for i in iris_data[\"type\"]]\n",
    "iris_data.head()"
   ]
  },
  {
   "cell_type": "markdown",
   "metadata": {
    "pycharm": {
     "name": "#%% md\n"
    }
   },
   "source": [
    "#### Get Data and Labels"
   ]
  },
  {
   "cell_type": "code",
   "execution_count": 50,
   "metadata": {
    "pycharm": {
     "name": "#%%\n"
    }
   },
   "outputs": [],
   "source": [
    "data = iris_data.drop([\"type\", \"species\"], axis=1)\n",
    "labels = iris_data[\"species\"]"
   ]
  },
  {
   "cell_type": "markdown",
   "metadata": {
    "pycharm": {
     "name": "#%% md\n"
    }
   },
   "source": [
    "#### Split Training and Test Data"
   ]
  },
  {
   "cell_type": "code",
   "execution_count": 51,
   "metadata": {
    "pycharm": {
     "name": "#%%\n"
    }
   },
   "outputs": [
    {
     "name": "stdout",
     "output_type": "stream",
     "text": [
      "amt of training data: 112\t74.67%\n",
      "amt of testing  data: 38\t25.33%\n"
     ]
    }
   ],
   "source": [
    "from sklearn.model_selection import train_test_split\n",
    "data_train, data_test, label_train, label_test = train_test_split(data, labels, random_state=0)\n",
    "\n",
    "percent_training = len(data_train) / len(data)\n",
    "print(f\"amt of training data: {len(data_train)}\\t{percent_training:.2%}\")\n",
    "print(f\"amt of testing  data: {len(data_test)}\\t{1-percent_training:.2%}\")"
   ]
  },
  {
   "cell_type": "markdown",
   "metadata": {
    "pycharm": {
     "name": "#%% md\n"
    }
   },
   "source": [
    "#### Classify and Score Model"
   ]
  },
  {
   "cell_type": "code",
   "execution_count": 52,
   "metadata": {
    "pycharm": {
     "name": "#%%\n"
    }
   },
   "outputs": [],
   "source": [
    "from sklearn.neighbors import KNeighborsClassifier\n",
    "knn = KNeighborsClassifier(n_neighbors=5)\n",
    "\n",
    "_ = knn.fit(data_train, label_train)"
   ]
  },
  {
   "cell_type": "code",
   "execution_count": 53,
   "metadata": {
    "pycharm": {
     "name": "#%%\n"
    }
   },
   "outputs": [
    {
     "name": "stdout",
     "output_type": "stream",
     "text": [
      "Score:   97.3684%\n"
     ]
    }
   ],
   "source": [
    "score = knn.score(data_test, label_test)\n",
    "print(f\"Score:   {score:.4%}\")"
   ]
  },
  {
   "cell_type": "markdown",
   "source": [
    "---\n",
    "### Dataset: Classifying Mushrooms\n",
    "\n",
    "Website: https://archive-beta.ics.uci.edu/ml/datasets/mushroom\n",
    "\n",
    "- No problems, except that the data is all nominal. So I converted it to numerical data before using KNN.\n"
   ],
   "metadata": {
    "collapsed": false
   }
  },
  {
   "cell_type": "markdown",
   "source": [
    "Abstract:\n",
    "\n",
    "*From Audobon Society Field Guide; mushrooms described in terms of physical characteristics; classification: poisonous or edible*\n",
    "\n",
    "\n",
    "**Characteristics (23)**\n",
    "\n",
    "| Feature                  | values                                                       |\n",
    "| ------------------------ | ------------------------------------------------------------ |\n",
    "| edibility                | edible=e,poisonous=p                                         |\n",
    "| cap-shape                | bell=b,conical=c,convex=x,flat=f, knobbed=k,sunken=s         |\n",
    "| cap-surface              | fibrous=f,grooves=g,scaly=y,smooth=s                         |\n",
    "| cap-color                | brown=n,buff=b,cinnamon=c,gray=g,green=r, pink=p,purple=u,red=e,white=w,yellow=y |\n",
    "| bruising                 | true=t,false=f                                               |\n",
    "| odor                     | almond=a,anise=l,creosote=c,fishy=y,foul=f, musty=m,none=n,pungent=p,spicy=s |\n",
    "| gill-attachment          | attached=a,descending=d,free=f,notched=n                     |\n",
    "| gill-spacing             | close=c,crowded=w,distant=d                                  |\n",
    "| gill-size                | broad=b,narrow=n                                             |\n",
    "| gill-color               | black=k,brown=n,buff=b,chocolate=h,gray=g, green=r,orange=o,pink=p,purple=u,red=e, white=w,yellow=y |\n",
    "| stalk-shape              | enlarging=e,tapering=t                                       |\n",
    "| stalk-root               | bulbous=b,club=c,cup=u,equal=e, rhizomorphs=z,rooted=r,missing=? |\n",
    "| stalk-surface-above-ring | fibrous=f,scaly=y,silky=k,smooth=s                           |\n",
    "| stalk-surface-below-ring | fibrous=f,scaly=y,silky=k,smooth=s                           |\n",
    "| stalk-color-above-ring   | brown=n,buff=b,cinnamon=c,gray=g,orange=o, pink=p,red=e,white=w,yellow=y |\n",
    "| stalk-color-below-ring   | brown=n,buff=b,cinnamon=c,gray=g,orange=o, pink=p,red=e,white=w,yellow=y |\n",
    "| veil-type                | partial=p,universal=u                                        |\n",
    "| veil-color               | brown=n,orange=o,white=w,yellow=y                            |\n",
    "| ring-number              | none=n,one=o,two=t                                           |\n",
    "| ring-type                | cobwebby=c,evanescent=e,flaring=f,large=l, none=n,pendant=p,sheathing=s,zone=z |\n",
    "| spore-print-color        | black=k,brown=n,buff=b,chocolate=h,green=r, orange=o,purple=u,white=w,yellow=y |\n",
    "| population               | abundant=a,clustered=c,numerous=n, scattered=s,several=v,solitary=y |\n",
    "| habitat                  | grasses=g,leaves=l,meadows=m,paths=p, urban=u,waste=w,woods=d |\n"
   ],
   "metadata": {
    "collapsed": false,
    "pycharm": {
     "name": "#%% md\n"
    }
   }
  },
  {
   "cell_type": "markdown",
   "source": [
    "#### Read in Data"
   ],
   "metadata": {
    "collapsed": false,
    "pycharm": {
     "name": "#%% md\n"
    }
   }
  },
  {
   "cell_type": "code",
   "execution_count": 54,
   "outputs": [],
   "source": [
    "cols = [\"edibility\",\"cap-shape\",\"cap-surface\",\"cap-color\",\"bruising\",\n",
    "        \"odor\",\"gill-attachment\",\"gill-spacing\",\"gill-size\",\"gill-color\",\n",
    "        \"stalk-shape\", \"stalk-root\", \"stalk-surface-above-ring\", \"stalk-surface-below-ring\",\n",
    "        \"stalk-color-above-ring\", \"stalk-color-below-ring\", \"veil-type\",\"veil-color\",\"ring-number\",\n",
    "        \"ring-type\",\"spore-print-color\",\"population\",\"habitat\"]\n",
    "\n",
    "df_mushrooms = pd.read_csv(\"../data/Mushroom/agaricus-lepiota.csv\", header=None, names=cols)"
   ],
   "metadata": {
    "collapsed": false,
    "pycharm": {
     "name": "#%%\n"
    }
   }
  },
  {
   "cell_type": "markdown",
   "source": [
    "#### Convert to numerical for KNN algorithm"
   ],
   "metadata": {
    "collapsed": false,
    "pycharm": {
     "name": "#%% md\n"
    }
   }
  },
  {
   "cell_type": "code",
   "execution_count": 55,
   "outputs": [],
   "source": [
    "df_mushrooms_numerical = df_mushrooms.applymap(ord)"
   ],
   "metadata": {
    "collapsed": false,
    "pycharm": {
     "name": "#%%\n"
    }
   }
  },
  {
   "cell_type": "markdown",
   "source": [
    "#### Split Training and Test Data"
   ],
   "metadata": {
    "collapsed": false,
    "pycharm": {
     "name": "#%% md\n"
    }
   }
  },
  {
   "cell_type": "code",
   "execution_count": 56,
   "outputs": [
    {
     "name": "stdout",
     "output_type": "stream",
     "text": [
      "amt of training data: 812\t10.00%\n",
      "amt of testing  data: 7312\t90.00%\n"
     ]
    }
   ],
   "source": [
    "labels = df_mushrooms_numerical[\"edibility\"]\n",
    "data   = df_mushrooms_numerical.drop(\"edibility\", axis=1)\n",
    "\n",
    "from sklearn.model_selection import train_test_split\n",
    "data_train, data_test, label_train, label_test = train_test_split(data, labels, random_state=0,test_size=.9)\n",
    "\n",
    "percent_training = len(data_train) / len(data)\n",
    "print(f\"amt of training data: {len(data_train)}\\t{percent_training:.2%}\")\n",
    "print(f\"amt of testing  data: {len(data_test)}\\t{1-percent_training:.2%}\")\n"
   ],
   "metadata": {
    "collapsed": false,
    "pycharm": {
     "name": "#%%\n"
    }
   }
  },
  {
   "cell_type": "markdown",
   "source": [
    "#### Classify and Score Model"
   ],
   "metadata": {
    "collapsed": false
   }
  },
  {
   "cell_type": "code",
   "execution_count": 57,
   "outputs": [],
   "source": [
    "from sklearn.neighbors import KNeighborsClassifier\n",
    "knn = KNeighborsClassifier(n_neighbors=5)\n",
    "\n",
    "_ = knn.fit(data_train, label_train)"
   ],
   "metadata": {
    "collapsed": false,
    "pycharm": {
     "name": "#%%\n"
    }
   }
  },
  {
   "cell_type": "code",
   "execution_count": 58,
   "outputs": [
    {
     "name": "stdout",
     "output_type": "stream",
     "text": [
      "Score:   99.0837%\n"
     ]
    }
   ],
   "source": [
    "score = knn.score(data_test, label_test)\n",
    "print(f\"Score:   {score:.4%}\")"
   ],
   "metadata": {
    "collapsed": false,
    "pycharm": {
     "name": "#%%\n"
    }
   }
  },
  {
   "cell_type": "markdown",
   "source": [
    "#### Removing some features..."
   ],
   "metadata": {
    "collapsed": false,
    "pycharm": {
     "name": "#%% md\n"
    }
   }
  },
  {
   "cell_type": "code",
   "execution_count": 59,
   "outputs": [],
   "source": [
    "# Reduce columns to ones that can be visually seen.\n",
    "reduced_cols = [\"edibility\",\n",
    "                \"cap-shape\",\"cap-color\",\n",
    "                \"gill-size\",\"gill-color\",\n",
    "                \"stalk-shape\",\n",
    "                \"ring-number\",\n",
    "                \"ring-type\",\n",
    "                \"stalk-color-above-ring\",\n",
    "                \"stalk-color-below-ring\",\n",
    "                \"population\"]\n",
    "reduced_mushrooms_numerical = df_mushrooms_numerical[reduced_cols]\n"
   ],
   "metadata": {
    "collapsed": false,
    "pycharm": {
     "name": "#%%\n"
    }
   }
  },
  {
   "cell_type": "markdown",
   "source": [
    "#### Split Training and Test Data"
   ],
   "metadata": {
    "collapsed": false
   }
  },
  {
   "cell_type": "code",
   "execution_count": 60,
   "outputs": [
    {
     "name": "stdout",
     "output_type": "stream",
     "text": [
      "amt of training data: 6093\t75.00%\n",
      "amt of testing  data: 2031\t25.00%\n"
     ]
    }
   ],
   "source": [
    "labels = reduced_mushrooms_numerical[\"edibility\"]\n",
    "data   = reduced_mushrooms_numerical.drop(\"edibility\", axis=1)\n",
    "\n",
    "from sklearn.model_selection import train_test_split\n",
    "data_train, data_test, label_train, label_test = train_test_split(data, labels, random_state=0)\n",
    "\n",
    "percent_training = len(data_train) / len(data)\n",
    "print(f\"amt of training data: {len(data_train)}\\t{percent_training:.2%}\")\n",
    "print(f\"amt of testing  data: {len(data_test)}\\t{1-percent_training:.2%}\")"
   ],
   "metadata": {
    "collapsed": false,
    "pycharm": {
     "name": "#%%\n"
    }
   }
  },
  {
   "cell_type": "markdown",
   "source": [
    "#### Classify and Score Model"
   ],
   "metadata": {
    "collapsed": false
   }
  },
  {
   "cell_type": "code",
   "execution_count": 61,
   "outputs": [],
   "source": [
    "from sklearn.neighbors import KNeighborsClassifier\n",
    "knn = KNeighborsClassifier(n_neighbors=5)\n",
    "\n",
    "_ = knn.fit(data_train, label_train)"
   ],
   "metadata": {
    "collapsed": false,
    "pycharm": {
     "name": "#%%\n"
    }
   }
  },
  {
   "cell_type": "code",
   "execution_count": 62,
   "outputs": [
    {
     "name": "stdout",
     "output_type": "stream",
     "text": [
      "Score:   98.9660%\n"
     ]
    }
   ],
   "source": [
    "score = knn.score(data_test, label_test)\n",
    "print(f\"Score:   {score:.4%}\")"
   ],
   "metadata": {
    "collapsed": false,
    "pycharm": {
     "name": "#%%\n"
    }
   }
  },
  {
   "cell_type": "markdown",
   "source": [
    "----\n",
    "### Dataset: Car Evaluation\n",
    "\n",
    "Website: https://archive-beta.ics.uci.edu/ml/datasets/car+evaluation\n",
    "\n",
    "- Why: Seemed interesting and also this is ordinal data (unlike the mushrooms)\n",
    "\n",
    "Abstract:\n",
    "\n",
    "Derived from simple hierarchical decision model, this database may be useful for testing constructive induction and structure discovery methods.\n",
    "\n",
    "| Features |Values|\n",
    "|----------|---|\n",
    "| buying   |  v-high, high, med, low|\n",
    "| maint    |  v-high, high, med, low|\n",
    "| doors    |  2, 3, 4, 5-more|\n",
    "| persons  |  2, 4, more|\n",
    "| lug_boot |  small, med, big|\n",
    "| safety   |   low, med, high|"
   ],
   "metadata": {
    "collapsed": false,
    "pycharm": {
     "name": "#%% md\n"
    }
   }
  },
  {
   "cell_type": "markdown",
   "source": [
    "#### Read in Data"
   ],
   "metadata": {
    "collapsed": false,
    "pycharm": {
     "name": "#%% md\n"
    }
   }
  },
  {
   "cell_type": "code",
   "execution_count": 63,
   "outputs": [
    {
     "data": {
      "text/plain": "  buying maintenance doors persons lug_boot safety quality\n0  vhigh       vhigh     2       2    small    low   unacc\n1  vhigh       vhigh     2       2    small    med   unacc\n2  vhigh       vhigh     2       2    small   high   unacc\n3  vhigh       vhigh     2       2      med    low   unacc\n4  vhigh       vhigh     2       2      med    med   unacc",
      "text/html": "<div>\n<style scoped>\n    .dataframe tbody tr th:only-of-type {\n        vertical-align: middle;\n    }\n\n    .dataframe tbody tr th {\n        vertical-align: top;\n    }\n\n    .dataframe thead th {\n        text-align: right;\n    }\n</style>\n<table border=\"1\" class=\"dataframe\">\n  <thead>\n    <tr style=\"text-align: right;\">\n      <th></th>\n      <th>buying</th>\n      <th>maintenance</th>\n      <th>doors</th>\n      <th>persons</th>\n      <th>lug_boot</th>\n      <th>safety</th>\n      <th>quality</th>\n    </tr>\n  </thead>\n  <tbody>\n    <tr>\n      <th>0</th>\n      <td>vhigh</td>\n      <td>vhigh</td>\n      <td>2</td>\n      <td>2</td>\n      <td>small</td>\n      <td>low</td>\n      <td>unacc</td>\n    </tr>\n    <tr>\n      <th>1</th>\n      <td>vhigh</td>\n      <td>vhigh</td>\n      <td>2</td>\n      <td>2</td>\n      <td>small</td>\n      <td>med</td>\n      <td>unacc</td>\n    </tr>\n    <tr>\n      <th>2</th>\n      <td>vhigh</td>\n      <td>vhigh</td>\n      <td>2</td>\n      <td>2</td>\n      <td>small</td>\n      <td>high</td>\n      <td>unacc</td>\n    </tr>\n    <tr>\n      <th>3</th>\n      <td>vhigh</td>\n      <td>vhigh</td>\n      <td>2</td>\n      <td>2</td>\n      <td>med</td>\n      <td>low</td>\n      <td>unacc</td>\n    </tr>\n    <tr>\n      <th>4</th>\n      <td>vhigh</td>\n      <td>vhigh</td>\n      <td>2</td>\n      <td>2</td>\n      <td>med</td>\n      <td>med</td>\n      <td>unacc</td>\n    </tr>\n  </tbody>\n</table>\n</div>"
     },
     "execution_count": 63,
     "metadata": {},
     "output_type": "execute_result"
    }
   ],
   "source": [
    "cols = [\"buying\", \"maintenance\", \"doors\", \"persons\", \"lug_boot\", \"safety\", \"quality\"]\n",
    "df_car_eval = pd.read_csv(\"../data/car/car.data\", header=None, names=cols)\n",
    "df_car_eval.head()"
   ],
   "metadata": {
    "collapsed": false,
    "pycharm": {
     "name": "#%%\n"
    }
   }
  },
  {
   "cell_type": "markdown",
   "source": [
    "#### Convert to Numeric type for KNN"
   ],
   "metadata": {
    "collapsed": false,
    "pycharm": {
     "name": "#%% md\n"
    }
   }
  },
  {
   "cell_type": "code",
   "execution_count": 64,
   "outputs": [
    {
     "data": {
      "text/plain": "   buying  maintenance doors persons  lug_boot  safety  quality\n0       5            5     2       2         2       2        0\n1       5            5     2       2         2       3        0\n2       5            5     2       2         2       4        0\n3       5            5     2       2         3       2        0\n4       5            5     2       2         3       3        0",
      "text/html": "<div>\n<style scoped>\n    .dataframe tbody tr th:only-of-type {\n        vertical-align: middle;\n    }\n\n    .dataframe tbody tr th {\n        vertical-align: top;\n    }\n\n    .dataframe thead th {\n        text-align: right;\n    }\n</style>\n<table border=\"1\" class=\"dataframe\">\n  <thead>\n    <tr style=\"text-align: right;\">\n      <th></th>\n      <th>buying</th>\n      <th>maintenance</th>\n      <th>doors</th>\n      <th>persons</th>\n      <th>lug_boot</th>\n      <th>safety</th>\n      <th>quality</th>\n    </tr>\n  </thead>\n  <tbody>\n    <tr>\n      <th>0</th>\n      <td>5</td>\n      <td>5</td>\n      <td>2</td>\n      <td>2</td>\n      <td>2</td>\n      <td>2</td>\n      <td>0</td>\n    </tr>\n    <tr>\n      <th>1</th>\n      <td>5</td>\n      <td>5</td>\n      <td>2</td>\n      <td>2</td>\n      <td>2</td>\n      <td>3</td>\n      <td>0</td>\n    </tr>\n    <tr>\n      <th>2</th>\n      <td>5</td>\n      <td>5</td>\n      <td>2</td>\n      <td>2</td>\n      <td>2</td>\n      <td>4</td>\n      <td>0</td>\n    </tr>\n    <tr>\n      <th>3</th>\n      <td>5</td>\n      <td>5</td>\n      <td>2</td>\n      <td>2</td>\n      <td>3</td>\n      <td>2</td>\n      <td>0</td>\n    </tr>\n    <tr>\n      <th>4</th>\n      <td>5</td>\n      <td>5</td>\n      <td>2</td>\n      <td>2</td>\n      <td>3</td>\n      <td>3</td>\n      <td>0</td>\n    </tr>\n  </tbody>\n</table>\n</div>"
     },
     "execution_count": 64,
     "metadata": {},
     "output_type": "execute_result"
    }
   ],
   "source": [
    "def car_num(value):\n",
    "    if str(value).isdigit():\n",
    "        return value\n",
    "    new_value = {\"vhigh\":5,\"high\":4,\"med\":3,\"low\":2,\n",
    "            \"5more\":5,\"more\":5,\n",
    "            \"small\":2,\"big\":4,\n",
    "            \"unacc\":0, \"acc\":1, \"good\":2,\"vgood\":3}\n",
    "    return new_value.get(value)\n",
    "\n",
    "df_car_eval_numeric = df_car_eval.applymap(car_num)\n",
    "df_car_eval_numeric.head()"
   ],
   "metadata": {
    "collapsed": false,
    "pycharm": {
     "name": "#%%\n"
    }
   }
  },
  {
   "cell_type": "markdown",
   "source": [
    "#### Split Data & Labels into Training and Testing sets\n"
   ],
   "metadata": {
    "collapsed": false,
    "pycharm": {
     "name": "#%% md\n"
    }
   }
  },
  {
   "cell_type": "code",
   "execution_count": 65,
   "outputs": [
    {
     "name": "stdout",
     "output_type": "stream",
     "text": [
      "amt of training data: 1296\t75.00%\n",
      "amt of testing  data: 432\t25.00%\n"
     ]
    }
   ],
   "source": [
    "data = df_car_eval_numeric.drop(\"quality\", axis=1)\n",
    "labels = df_car_eval_numeric[\"quality\"]\n",
    "data_train, data_test, label_train, label_test = train_test_split(data, labels, random_state=0)\n",
    "\n",
    "percent_training = len(data_train) / len(data)\n",
    "print(f\"amt of training data: {len(data_train)}\\t{percent_training:.2%}\")\n",
    "print(f\"amt of testing  data: {len(data_test)}\\t{1-percent_training:.2%}\")"
   ],
   "metadata": {
    "collapsed": false,
    "pycharm": {
     "name": "#%%\n"
    }
   }
  },
  {
   "cell_type": "markdown",
   "source": [
    "#### Apply KNN and Score"
   ],
   "metadata": {
    "collapsed": false,
    "pycharm": {
     "name": "#%% md\n"
    }
   }
  },
  {
   "cell_type": "code",
   "execution_count": 66,
   "outputs": [],
   "source": [
    "knn = KNeighborsClassifier(n_neighbors=5)\n",
    "\n",
    "_ = knn.fit(data_train, label_train)"
   ],
   "metadata": {
    "collapsed": false,
    "pycharm": {
     "name": "#%%\n"
    }
   }
  },
  {
   "cell_type": "code",
   "execution_count": 67,
   "outputs": [
    {
     "name": "stdout",
     "output_type": "stream",
     "text": [
      "Score:   94.9074%\n"
     ]
    }
   ],
   "source": [
    "score = knn.score(data_test, label_test)\n",
    "print(f\"Score:   {score:.4%}\")"
   ],
   "metadata": {
    "collapsed": false,
    "pycharm": {
     "name": "#%%\n"
    }
   }
  },
  {
   "cell_type": "markdown",
   "source": [
    "### Dataset: MPG\n",
    "\n",
    "- Why: This\n",
    "\n",
    "Abstract\n",
    "Revised from CMU StatLib library, data concerns city-cycle fuel consumption\n",
    "\n",
    "Website: https://archive-beta.ics.uci.edu/ml/datasets/auto+mpg\n",
    "\n",
    "\n",
    "\n",
    "Attribute Information:\n",
    "    1. mpg:           continuous\n",
    "    2. cylinders:     multi-valued discrete\n",
    "    3. displacement:  continuous\n",
    "    4. horsepower:    continuous\n",
    "    5. weight:        continuous\n",
    "    6. acceleration:  continuous\n",
    "    7. model year:    multi-valued discrete\n",
    "    8. origin:        multi-valued discrete\n",
    "    9. car name:      string (unique for each instance)\n",
    "\n",
    "\n",
    "Missing Data is represented with: `1`"
   ],
   "metadata": {
    "collapsed": false,
    "pycharm": {
     "name": "#%% md\n"
    }
   }
  },
  {
   "cell_type": "markdown",
   "source": [
    "#### Read in Data"
   ],
   "metadata": {
    "collapsed": false,
    "pycharm": {
     "name": "#%% md\n"
    }
   }
  },
  {
   "cell_type": "code",
   "execution_count": 68,
   "outputs": [
    {
     "data": {
      "text/plain": "      mpg  cylinders displacement  horsepower  weight  acceleration  \\\n18.0    8      307.0        130.0      3504.0    12.0            70   \n15.0    8      350.0        165.0      3693.0    11.5            70   \n18.0    8      318.0        150.0      3436.0    11.0            70   \n16.0    8      304.0        150.0      3433.0    12.0            70   \n17.0    8      302.0        140.0      3449.0    10.5            70   \n\n         model_year      origin car_name  \n18.0  1\\t\"chevrolet    chevelle  malibu\"  \n15.0      1\\t\"buick     skylark     320\"  \n18.0   1\\t\"plymouth  satellite\"      NaN  \n16.0        1\\t\"amc       rebel     sst\"  \n17.0       1\\t\"ford     torino\"      NaN  ",
      "text/html": "<div>\n<style scoped>\n    .dataframe tbody tr th:only-of-type {\n        vertical-align: middle;\n    }\n\n    .dataframe tbody tr th {\n        vertical-align: top;\n    }\n\n    .dataframe thead th {\n        text-align: right;\n    }\n</style>\n<table border=\"1\" class=\"dataframe\">\n  <thead>\n    <tr style=\"text-align: right;\">\n      <th></th>\n      <th>mpg</th>\n      <th>cylinders</th>\n      <th>displacement</th>\n      <th>horsepower</th>\n      <th>weight</th>\n      <th>acceleration</th>\n      <th>model_year</th>\n      <th>origin</th>\n      <th>car_name</th>\n    </tr>\n  </thead>\n  <tbody>\n    <tr>\n      <th>18.0</th>\n      <td>8</td>\n      <td>307.0</td>\n      <td>130.0</td>\n      <td>3504.0</td>\n      <td>12.0</td>\n      <td>70</td>\n      <td>1\\t\"chevrolet</td>\n      <td>chevelle</td>\n      <td>malibu\"</td>\n    </tr>\n    <tr>\n      <th>15.0</th>\n      <td>8</td>\n      <td>350.0</td>\n      <td>165.0</td>\n      <td>3693.0</td>\n      <td>11.5</td>\n      <td>70</td>\n      <td>1\\t\"buick</td>\n      <td>skylark</td>\n      <td>320\"</td>\n    </tr>\n    <tr>\n      <th>18.0</th>\n      <td>8</td>\n      <td>318.0</td>\n      <td>150.0</td>\n      <td>3436.0</td>\n      <td>11.0</td>\n      <td>70</td>\n      <td>1\\t\"plymouth</td>\n      <td>satellite\"</td>\n      <td>NaN</td>\n    </tr>\n    <tr>\n      <th>16.0</th>\n      <td>8</td>\n      <td>304.0</td>\n      <td>150.0</td>\n      <td>3433.0</td>\n      <td>12.0</td>\n      <td>70</td>\n      <td>1\\t\"amc</td>\n      <td>rebel</td>\n      <td>sst\"</td>\n    </tr>\n    <tr>\n      <th>17.0</th>\n      <td>8</td>\n      <td>302.0</td>\n      <td>140.0</td>\n      <td>3449.0</td>\n      <td>10.5</td>\n      <td>70</td>\n      <td>1\\t\"ford</td>\n      <td>torino\"</td>\n      <td>NaN</td>\n    </tr>\n  </tbody>\n</table>\n</div>"
     },
     "execution_count": 68,
     "metadata": {},
     "output_type": "execute_result"
    }
   ],
   "source": [
    "cols = [\"mpg\", \"cylinders\", \"displacement\", \"horsepower\", \"weight\", \"acceleration\", \"model_year\", \"origin\", \"car_name\"]\n",
    "df_car_mpg = pd.read_csv(\"../data/mpg/auto-mpg.data\", header=None, names=cols, delimiter=\" \", skipinitialspace=True)\n",
    "df_car_mpg.head()"
   ],
   "metadata": {
    "collapsed": false,
    "pycharm": {
     "name": "#%%\n"
    }
   }
  },
  {
   "cell_type": "markdown",
   "source": [
    "#### Convert to Numeric type for KNN"
   ],
   "metadata": {
    "collapsed": false
   }
  },
  {
   "cell_type": "code",
   "execution_count": 69,
   "outputs": [
    {
     "data": {
      "text/plain": "   buying  maintenance doors persons  lug_boot  safety  quality\n0       5            5     2       2         2       2        0\n1       5            5     2       2         2       3        0\n2       5            5     2       2         2       4        0\n3       5            5     2       2         3       2        0\n4       5            5     2       2         3       3        0",
      "text/html": "<div>\n<style scoped>\n    .dataframe tbody tr th:only-of-type {\n        vertical-align: middle;\n    }\n\n    .dataframe tbody tr th {\n        vertical-align: top;\n    }\n\n    .dataframe thead th {\n        text-align: right;\n    }\n</style>\n<table border=\"1\" class=\"dataframe\">\n  <thead>\n    <tr style=\"text-align: right;\">\n      <th></th>\n      <th>buying</th>\n      <th>maintenance</th>\n      <th>doors</th>\n      <th>persons</th>\n      <th>lug_boot</th>\n      <th>safety</th>\n      <th>quality</th>\n    </tr>\n  </thead>\n  <tbody>\n    <tr>\n      <th>0</th>\n      <td>5</td>\n      <td>5</td>\n      <td>2</td>\n      <td>2</td>\n      <td>2</td>\n      <td>2</td>\n      <td>0</td>\n    </tr>\n    <tr>\n      <th>1</th>\n      <td>5</td>\n      <td>5</td>\n      <td>2</td>\n      <td>2</td>\n      <td>2</td>\n      <td>3</td>\n      <td>0</td>\n    </tr>\n    <tr>\n      <th>2</th>\n      <td>5</td>\n      <td>5</td>\n      <td>2</td>\n      <td>2</td>\n      <td>2</td>\n      <td>4</td>\n      <td>0</td>\n    </tr>\n    <tr>\n      <th>3</th>\n      <td>5</td>\n      <td>5</td>\n      <td>2</td>\n      <td>2</td>\n      <td>3</td>\n      <td>2</td>\n      <td>0</td>\n    </tr>\n    <tr>\n      <th>4</th>\n      <td>5</td>\n      <td>5</td>\n      <td>2</td>\n      <td>2</td>\n      <td>3</td>\n      <td>3</td>\n      <td>0</td>\n    </tr>\n  </tbody>\n</table>\n</div>"
     },
     "execution_count": 69,
     "metadata": {},
     "output_type": "execute_result"
    }
   ],
   "source": [
    "def car_num(value):\n",
    "    if str(value).isdigit():\n",
    "        return value\n",
    "    new_value = {\"vhigh\":5,\"high\":4,\"med\":3,\"low\":2,\n",
    "            \"5more\":5,\"more\":5,\n",
    "            \"small\":2,\"big\":4,\n",
    "            \"unacc\":0, \"acc\":1, \"good\":2,\"vgood\":3}\n",
    "    return new_value.get(value)\n",
    "\n",
    "df_car_eval_numeric = df_car_eval.applymap(car_num)\n",
    "df_car_eval_numeric.head()"
   ],
   "metadata": {
    "collapsed": false,
    "pycharm": {
     "name": "#%%\n"
    }
   }
  },
  {
   "cell_type": "markdown",
   "source": [
    "#### Split Data & Labels into Training and Testing sets"
   ],
   "metadata": {
    "collapsed": false
   }
  },
  {
   "cell_type": "code",
   "execution_count": 70,
   "outputs": [
    {
     "name": "stdout",
     "output_type": "stream",
     "text": [
      "amt of training data: 1296\t75.00%\n",
      "amt of testing  data: 432\t25.00%\n"
     ]
    }
   ],
   "source": [
    "data = df_car_eval_numeric.drop(\"quality\", axis=1)\n",
    "labels = df_car_eval_numeric[\"quality\"]\n",
    "data_train, data_test, label_train, label_test = train_test_split(data, labels, random_state=0)\n",
    "\n",
    "percent_training = len(data_train) / len(data)\n",
    "print(f\"amt of training data: {len(data_train)}\\t{percent_training:.2%}\")\n",
    "print(f\"amt of testing  data: {len(data_test)}\\t{1-percent_training:.2%}\")"
   ],
   "metadata": {
    "collapsed": false,
    "pycharm": {
     "name": "#%%\n"
    }
   }
  },
  {
   "cell_type": "markdown",
   "source": [
    "#### Apply KNN and Score"
   ],
   "metadata": {
    "collapsed": false
   }
  },
  {
   "cell_type": "code",
   "execution_count": 71,
   "outputs": [],
   "source": [
    "knn = KNeighborsClassifier(n_neighbors=5)\n",
    "\n",
    "_ = knn.fit(data_train, label_train)"
   ],
   "metadata": {
    "collapsed": false,
    "pycharm": {
     "name": "#%%\n"
    }
   }
  },
  {
   "cell_type": "code",
   "execution_count": 72,
   "outputs": [
    {
     "name": "stdout",
     "output_type": "stream",
     "text": [
      "Score:   94.9074%\n"
     ]
    }
   ],
   "source": [
    "score = knn.score(data_test, label_test)\n",
    "print(f\"Score:   {score:.4%}\")"
   ],
   "metadata": {
    "collapsed": false,
    "pycharm": {
     "name": "#%%\n"
    }
   }
  },
  {
   "cell_type": "markdown",
   "source": [
    "### Dataset: Miles per Gallon\n",
    "\n",
    "- Why: This has a mixture of continuous and discrete data\n",
    "- The issue I had is shown below\n",
    "    - mpg has too many classes, so I had to reduce them.\n",
    "\n",
    "Website: https://archive-beta.ics.uci.edu/ml/datasets/auto+mpg\n",
    "\n",
    "Abstract: Revised from CMU StatLib library, data concerns city-cycle fuel consumption\n",
    "\n",
    "Attribute Information:\n",
    "\n",
    "    1. mpg:           continuous\n",
    "    2. cylinders:     multi-valued discrete\n",
    "    3. displacement:  continuous\n",
    "    4. horsepower:    continuous\n",
    "    5. weight:        continuous\n",
    "    6. acceleration:  continuous\n",
    "    7. model year:    multi-valued discrete\n",
    "    8. origin:        multi-valued discrete\n",
    "    9. car name:      string (unique for each instance)\n",
    "\n",
    "Missing Attribute Values:  horsepower has 6 missing values marked with \"`?`\"\n",
    "\n",
    "\n",
    "#### Convert to CSV and Read File\n",
    "\n",
    "- the original file didn't load into pandas well"
   ],
   "metadata": {
    "collapsed": false,
    "pycharm": {
     "name": "#%% md\n"
    }
   }
  },
  {
   "cell_type": "code",
   "execution_count": 73,
   "outputs": [],
   "source": [
    "file_bad = \"../data/mpg/auto-mpg.data\"\n",
    "file_csv = \"../data/mpg/auto-mpg.csv\""
   ],
   "metadata": {
    "collapsed": false,
    "pycharm": {
     "name": "#%%\n"
    }
   }
  },
  {
   "cell_type": "code",
   "execution_count": 74,
   "outputs": [],
   "source": [
    "import re\n",
    "\n",
    "with open(file_bad, 'r') as File : file_data = File.read()\n",
    "\n",
    "\n",
    "# file_data = re.sub('\"+', '', file_data)\n",
    "file_data = re.sub(' +', ',', file_data)\n",
    "file_data = re.sub('\\t+', ',', file_data)\n",
    "\n",
    "with open(file_csv, 'w') as file: file.write(file_data)"
   ],
   "metadata": {
    "collapsed": false,
    "pycharm": {
     "name": "#%%\n"
    }
   }
  },
  {
   "cell_type": "code",
   "execution_count": 75,
   "outputs": [],
   "source": [
    "cols = [\"mpg\", \"cylinders\", \"displacement\", \"horsepower\", \"weight\", \"acceleration\", \"model_year\",\"origin\",\"car_name\"]\n",
    "df_mpg = pd.read_csv(file_csv, delimiter=\",\", header=None, names=cols)\n",
    "df_mpg = df_mpg.drop(\"origin\", axis=1).drop(\"car_name\", axis=1)\n",
    "df_mpg = df_mpg[df_mpg[\"horsepower\"] != \"?\"] # Drop 6 rows with missing field"
   ],
   "metadata": {
    "collapsed": false,
    "pycharm": {
     "name": "#%%\n"
    }
   }
  },
  {
   "cell_type": "code",
   "execution_count": 76,
   "outputs": [
    {
     "data": {
      "text/plain": "    mpg  cylinders  displacement  horsepower  weight  acceleration  model_year\n0  18.0          8         307.0       130.0  3504.0          12.0          70\n1  15.0          8         350.0       165.0  3693.0          11.5          70\n2  18.0          8         318.0       150.0  3436.0          11.0          70\n3  16.0          8         304.0       150.0  3433.0          12.0          70\n4  17.0          8         302.0       140.0  3449.0          10.5          70",
      "text/html": "<div>\n<style scoped>\n    .dataframe tbody tr th:only-of-type {\n        vertical-align: middle;\n    }\n\n    .dataframe tbody tr th {\n        vertical-align: top;\n    }\n\n    .dataframe thead th {\n        text-align: right;\n    }\n</style>\n<table border=\"1\" class=\"dataframe\">\n  <thead>\n    <tr style=\"text-align: right;\">\n      <th></th>\n      <th>mpg</th>\n      <th>cylinders</th>\n      <th>displacement</th>\n      <th>horsepower</th>\n      <th>weight</th>\n      <th>acceleration</th>\n      <th>model_year</th>\n    </tr>\n  </thead>\n  <tbody>\n    <tr>\n      <th>0</th>\n      <td>18.0</td>\n      <td>8</td>\n      <td>307.0</td>\n      <td>130.0</td>\n      <td>3504.0</td>\n      <td>12.0</td>\n      <td>70</td>\n    </tr>\n    <tr>\n      <th>1</th>\n      <td>15.0</td>\n      <td>8</td>\n      <td>350.0</td>\n      <td>165.0</td>\n      <td>3693.0</td>\n      <td>11.5</td>\n      <td>70</td>\n    </tr>\n    <tr>\n      <th>2</th>\n      <td>18.0</td>\n      <td>8</td>\n      <td>318.0</td>\n      <td>150.0</td>\n      <td>3436.0</td>\n      <td>11.0</td>\n      <td>70</td>\n    </tr>\n    <tr>\n      <th>3</th>\n      <td>16.0</td>\n      <td>8</td>\n      <td>304.0</td>\n      <td>150.0</td>\n      <td>3433.0</td>\n      <td>12.0</td>\n      <td>70</td>\n    </tr>\n    <tr>\n      <th>4</th>\n      <td>17.0</td>\n      <td>8</td>\n      <td>302.0</td>\n      <td>140.0</td>\n      <td>3449.0</td>\n      <td>10.5</td>\n      <td>70</td>\n    </tr>\n  </tbody>\n</table>\n</div>"
     },
     "execution_count": 76,
     "metadata": {},
     "output_type": "execute_result"
    }
   ],
   "source": [
    "df_mpg = df_mpg.applymap(pd.to_numeric)\n",
    "df_mpg.head()"
   ],
   "metadata": {
    "collapsed": false,
    "pycharm": {
     "name": "#%%\n"
    }
   }
  },
  {
   "cell_type": "markdown",
   "source": [
    "#### Split Data & Labels into Training and Testing sets"
   ],
   "metadata": {
    "collapsed": false
   }
  },
  {
   "cell_type": "code",
   "execution_count": 77,
   "outputs": [
    {
     "name": "stdout",
     "output_type": "stream",
     "text": [
      "amt of training data: 294\t75.00%\n",
      "amt of testing  data: 98\t25.00%\n"
     ]
    }
   ],
   "source": [
    "data = df_mpg.drop(\"mpg\", axis=1)\n",
    "labels = df_mpg[\"mpg\"].apply(round)\n",
    "\n",
    "data_train, data_test, label_train, label_test = train_test_split(data, labels, random_state=0)\n",
    "\n",
    "percent_training = len(data_train) / len(data)\n",
    "print(f\"amt of training data: {len(data_train)}\\t{percent_training:.2%}\")\n",
    "print(f\"amt of testing  data: {len(data_test)}\\t{1-percent_training:.2%}\")"
   ],
   "metadata": {
    "collapsed": false,
    "pycharm": {
     "name": "#%%\n"
    }
   }
  },
  {
   "cell_type": "markdown",
   "source": [
    "#### Apply KNN and Score"
   ],
   "metadata": {
    "collapsed": false
   }
  },
  {
   "cell_type": "code",
   "execution_count": 78,
   "outputs": [],
   "source": [
    "knn = KNeighborsClassifier(n_neighbors=5)\n",
    "\n",
    "_ = knn.fit(data_train, label_train)"
   ],
   "metadata": {
    "collapsed": false,
    "pycharm": {
     "name": "#%%\n"
    }
   }
  },
  {
   "cell_type": "code",
   "execution_count": 79,
   "outputs": [
    {
     "name": "stdout",
     "output_type": "stream",
     "text": [
      "Score:   11.2245%\n"
     ]
    }
   ],
   "source": [
    "score = knn.score(data_test, label_test)\n",
    "print(f\"Score:   {score:.4%}\")\n"
   ],
   "metadata": {
    "collapsed": false,
    "pycharm": {
     "name": "#%%\n"
    }
   }
  },
  {
   "cell_type": "markdown",
   "source": [
    "Well that is not good...\n",
    "- Obviously, because there are too many classes (mpg)\n",
    "- Solution - Re-classify into (low, medium, high) mpg categories.\n",
    "\n",
    "#### Reclassification\n",
    "\n",
    "- decided to base new classification on inter-quartile range"
   ],
   "metadata": {
    "collapsed": false,
    "pycharm": {
     "name": "#%% md\n"
    }
   }
  },
  {
   "cell_type": "code",
   "execution_count": 80,
   "outputs": [],
   "source": [
    "mpg = np.sort(np.array(df_mpg[\"mpg\"]))\n",
    "y = np.arange(0, mpg.size)"
   ],
   "metadata": {
    "collapsed": false,
    "pycharm": {
     "name": "#%%\n"
    }
   }
  },
  {
   "cell_type": "code",
   "execution_count": 81,
   "outputs": [
    {
     "data": {
      "text/plain": "<Figure size 576x396 with 1 Axes>",
      "image/png": "[encoded data removed]"
     },
     "metadata": {},
     "output_type": "display_data"
    }
   ],
   "source": [
    "# Create New Classes\n",
    "q1, q3 = np.percentile(mpg, [25,75])\n",
    "mean = np.mean(mpg)\n",
    "std = np.mean(mpg)\n",
    "\n",
    "plt.title(\"MPG\")\n",
    "plt.grid(False)\n",
    "plt.boxplot(mpg, vert=False, notch=True)\n",
    "plt.show()"
   ],
   "metadata": {
    "collapsed": false,
    "pycharm": {
     "name": "#%%\n"
    }
   }
  },
  {
   "cell_type": "code",
   "execution_count": 82,
   "outputs": [],
   "source": [
    "def map_to_string(mpg):\n",
    "    if q1 < mpg:\n",
    "        return \"low\"\n",
    "    if q1 <= mpg <= q3:\n",
    "        return \"average\"\n",
    "    if mpg < q3:\n",
    "        return \"high\""
   ],
   "metadata": {
    "collapsed": false,
    "pycharm": {
     "name": "#%%\n"
    }
   }
  },
  {
   "cell_type": "code",
   "execution_count": 83,
   "outputs": [
    {
     "data": {
      "text/plain": "     cylinders  displacement  horsepower  weight  acceleration      mpg\n0            8         307.0       130.0  3504.0          12.0      low\n1            8         350.0       165.0  3693.0          11.5     high\n2            8         318.0       150.0  3436.0          11.0      low\n3            8         304.0       150.0  3433.0          12.0     high\n4            8         302.0       140.0  3449.0          10.5  average\n..         ...           ...         ...     ...           ...      ...\n393          4         140.0        86.0  2790.0          15.6      low\n394          4          97.0        52.0  2130.0          24.6      low\n395          4         135.0        84.0  2295.0          11.6      low\n396          4         120.0        79.0  2625.0          18.6      low\n397          4         119.0        82.0  2720.0          19.4      low\n\n[392 rows x 6 columns]",
      "text/html": "<div>\n<style scoped>\n    .dataframe tbody tr th:only-of-type {\n        vertical-align: middle;\n    }\n\n    .dataframe tbody tr th {\n        vertical-align: top;\n    }\n\n    .dataframe thead th {\n        text-align: right;\n    }\n</style>\n<table border=\"1\" class=\"dataframe\">\n  <thead>\n    <tr style=\"text-align: right;\">\n      <th></th>\n      <th>cylinders</th>\n      <th>displacement</th>\n      <th>horsepower</th>\n      <th>weight</th>\n      <th>acceleration</th>\n      <th>mpg</th>\n    </tr>\n  </thead>\n  <tbody>\n    <tr>\n      <th>0</th>\n      <td>8</td>\n      <td>307.0</td>\n      <td>130.0</td>\n      <td>3504.0</td>\n      <td>12.0</td>\n      <td>low</td>\n    </tr>\n    <tr>\n      <th>1</th>\n      <td>8</td>\n      <td>350.0</td>\n      <td>165.0</td>\n      <td>3693.0</td>\n      <td>11.5</td>\n      <td>high</td>\n    </tr>\n    <tr>\n      <th>2</th>\n      <td>8</td>\n      <td>318.0</td>\n      <td>150.0</td>\n      <td>3436.0</td>\n      <td>11.0</td>\n      <td>low</td>\n    </tr>\n    <tr>\n      <th>3</th>\n      <td>8</td>\n      <td>304.0</td>\n      <td>150.0</td>\n      <td>3433.0</td>\n      <td>12.0</td>\n      <td>high</td>\n    </tr>\n    <tr>\n      <th>4</th>\n      <td>8</td>\n      <td>302.0</td>\n      <td>140.0</td>\n      <td>3449.0</td>\n      <td>10.5</td>\n      <td>average</td>\n    </tr>\n    <tr>\n      <th>...</th>\n      <td>...</td>\n      <td>...</td>\n      <td>...</td>\n      <td>...</td>\n      <td>...</td>\n      <td>...</td>\n    </tr>\n    <tr>\n      <th>393</th>\n      <td>4</td>\n      <td>140.0</td>\n      <td>86.0</td>\n      <td>2790.0</td>\n      <td>15.6</td>\n      <td>low</td>\n    </tr>\n    <tr>\n      <th>394</th>\n      <td>4</td>\n      <td>97.0</td>\n      <td>52.0</td>\n      <td>2130.0</td>\n      <td>24.6</td>\n      <td>low</td>\n    </tr>\n    <tr>\n      <th>395</th>\n      <td>4</td>\n      <td>135.0</td>\n      <td>84.0</td>\n      <td>2295.0</td>\n      <td>11.6</td>\n      <td>low</td>\n    </tr>\n    <tr>\n      <th>396</th>\n      <td>4</td>\n      <td>120.0</td>\n      <td>79.0</td>\n      <td>2625.0</td>\n      <td>18.6</td>\n      <td>low</td>\n    </tr>\n    <tr>\n      <th>397</th>\n      <td>4</td>\n      <td>119.0</td>\n      <td>82.0</td>\n      <td>2720.0</td>\n      <td>19.4</td>\n      <td>low</td>\n    </tr>\n  </tbody>\n</table>\n<p>392 rows × 6 columns</p>\n</div>"
     },
     "execution_count": 83,
     "metadata": {},
     "output_type": "execute_result"
    }
   ],
   "source": [
    "# Re-class mpg column\n",
    "Type = [map_to_string(mpg) for mpg in df_mpg[\"mpg\"]]\n",
    "df_mpg = df_mpg.drop(\"mpg\", axis=1)\n",
    "df_mpg[\"mpg\"] = Type\n",
    "df_mpg = df_mpg.drop(\"model_year\", axis=1)\n",
    "df_mpg"
   ],
   "metadata": {
    "collapsed": false,
    "pycharm": {
     "name": "#%%\n"
    }
   }
  },
  {
   "cell_type": "markdown",
   "source": [
    "Done creating new classes.  Now let's try this again.\n",
    "\n",
    "#### Split Data & Labels into Training and Testing sets"
   ],
   "metadata": {
    "collapsed": false
   }
  },
  {
   "cell_type": "code",
   "execution_count": 84,
   "outputs": [
    {
     "name": "stdout",
     "output_type": "stream",
     "text": [
      "amt of training data: 294\t75.00%\n",
      "amt of testing  data: 98\t25.00%\n"
     ]
    }
   ],
   "source": [
    "data = df_mpg.drop(\"mpg\", axis=1)\n",
    "labels = df_mpg[\"mpg\"]\n",
    "\n",
    "data_train, data_test, label_train, label_test = train_test_split(data, labels, random_state=0)\n",
    "\n",
    "percent_training = len(data_train) / len(data)\n",
    "print(f\"amt of training data: {len(data_train)}\\t{percent_training:.2%}\")\n",
    "print(f\"amt of testing  data: {len(data_test)}\\t{1-percent_training:.2%}\")"
   ],
   "metadata": {
    "collapsed": false,
    "pycharm": {
     "name": "#%%\n"
    }
   }
  },
  {
   "cell_type": "markdown",
   "source": [
    "#### Apply KNN and Score"
   ],
   "metadata": {
    "collapsed": false
   }
  },
  {
   "cell_type": "code",
   "execution_count": 85,
   "outputs": [],
   "source": [
    "knn = KNeighborsClassifier(n_neighbors=7)\n",
    "\n",
    "_ = knn.fit(data_train, label_train)"
   ],
   "metadata": {
    "collapsed": false,
    "pycharm": {
     "name": "#%%\n"
    }
   }
  },
  {
   "cell_type": "code",
   "execution_count": 86,
   "outputs": [
    {
     "name": "stdout",
     "output_type": "stream",
     "text": [
      "Score:   94.8980%\n"
     ]
    }
   ],
   "source": [
    "score = knn.score(data_test, label_test)\n",
    "print(f\"Score:   {score:.4%}\")\n",
    "\n"
   ],
   "metadata": {
    "collapsed": false,
    "pycharm": {
     "name": "#%%\n"
    }
   }
  }
 ],
 "metadata": {
  "kernelspec": {
   "display_name": "Python 3 (ipykernel)",
   "language": "python",
   "name": "python3"
  },
  "language_info": {
   "codemirror_mode": {
    "name": "ipython",
    "version": 3
   },
   "file_extension": ".py",
   "mimetype": "text/x-python",
   "name": "python",
   "nbconvert_exporter": "python",
   "pygments_lexer": "ipython3",
   "version": "3.9.7"
  }
 },
 "nbformat": 4,
 "nbformat_minor": 4
}